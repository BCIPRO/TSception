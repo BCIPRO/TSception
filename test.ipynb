{
 "cells": [
  {
   "cell_type": "code",
   "execution_count": 1,
   "metadata": {},
   "outputs": [],
   "source": [
    "import mne\n",
    "import numpy as np"
   ]
  },
  {
   "cell_type": "code",
   "execution_count": 7,
   "metadata": {},
   "outputs": [
    {
     "name": "stderr",
     "output_type": "stream",
     "text": [
      "/tmp/ipykernel_25057/2524858334.py:2: RuntimeWarning: Number of records from the header does not match the file size (perhaps the recording was not stopped before exiting). Inferring from the file size.\n",
      "  raw_stress = mne.io.read_raw_bdf(path, preload=True, verbose=False)\n"
     ]
    }
   ],
   "source": [
    "path = \"data/sub_0.bdf\"\n",
    "raw_stress = mne.io.read_raw_bdf(path, preload=True, verbose=False)\n",
    "#raw_stress.crop(tmin=10, tmax=70)"
   ]
  },
  {
   "cell_type": "code",
   "execution_count": 21,
   "metadata": {},
   "outputs": [
    {
     "name": "stderr",
     "output_type": "stream",
     "text": [
      "/tmp/ipykernel_25057/1506585353.py:25: RuntimeWarning: Number of records from the header does not match the file size (perhaps the recording was not stopped before exiting). Inferring from the file size.\n",
      "  raw_stress = mne.io.read_raw_bdf(path, preload=True, verbose=False)\n",
      "/tmp/ipykernel_25057/1506585353.py:25: RuntimeWarning: Number of records from the header does not match the file size (perhaps the recording was not stopped before exiting). Inferring from the file size.\n",
      "  raw_stress = mne.io.read_raw_bdf(path, preload=True, verbose=False)\n",
      "/tmp/ipykernel_25057/1506585353.py:25: RuntimeWarning: Number of records from the header does not match the file size (perhaps the recording was not stopped before exiting). Inferring from the file size.\n",
      "  raw_stress = mne.io.read_raw_bdf(path, preload=True, verbose=False)\n",
      "/tmp/ipykernel_25057/1506585353.py:25: RuntimeWarning: Number of records from the header does not match the file size (perhaps the recording was not stopped before exiting). Inferring from the file size.\n",
      "  raw_stress = mne.io.read_raw_bdf(path, preload=True, verbose=False)\n",
      "/tmp/ipykernel_25057/1506585353.py:25: RuntimeWarning: Number of records from the header does not match the file size (perhaps the recording was not stopped before exiting). Inferring from the file size.\n",
      "  raw_stress = mne.io.read_raw_bdf(path, preload=True, verbose=False)\n",
      "/tmp/ipykernel_25057/1506585353.py:25: RuntimeWarning: Number of records from the header does not match the file size (perhaps the recording was not stopped before exiting). Inferring from the file size.\n",
      "  raw_stress = mne.io.read_raw_bdf(path, preload=True, verbose=False)\n",
      "/tmp/ipykernel_25057/1506585353.py:25: RuntimeWarning: Number of records from the header does not match the file size (perhaps the recording was not stopped before exiting). Inferring from the file size.\n",
      "  raw_stress = mne.io.read_raw_bdf(path, preload=True, verbose=False)\n",
      "/tmp/ipykernel_25057/1506585353.py:25: RuntimeWarning: Number of records from the header does not match the file size (perhaps the recording was not stopped before exiting). Inferring from the file size.\n",
      "  raw_stress = mne.io.read_raw_bdf(path, preload=True, verbose=False)\n",
      "/tmp/ipykernel_25057/1506585353.py:25: RuntimeWarning: Number of records from the header does not match the file size (perhaps the recording was not stopped before exiting). Inferring from the file size.\n",
      "  raw_stress = mne.io.read_raw_bdf(path, preload=True, verbose=False)\n",
      "/tmp/ipykernel_25057/1506585353.py:25: RuntimeWarning: Number of records from the header does not match the file size (perhaps the recording was not stopped before exiting). Inferring from the file size.\n",
      "  raw_stress = mne.io.read_raw_bdf(path, preload=True, verbose=False)\n"
     ]
    }
   ],
   "source": [
    "def get_data_one(raw_stress):\n",
    "    channels = [\"EEG 1\", \"EEG 2\", \"EEG 3\", \"EEG 4\", \"EEG 5\", \"EEG 6\", \"EEG 7\", \"EEG 8\"]\n",
    "    data = []\n",
    "\n",
    "    for c in channels:\n",
    "        raw, _ = raw_stress[c]\n",
    "        data.append(raw.flatten())\n",
    "\n",
    "    times = raw_stress[c][1]\n",
    "    labels = np.ones_like(times)\n",
    "\n",
    "    for mx in range(5, 61, 5):\n",
    "        mn = mx - 5\n",
    "        labels[(times >= mn) & (times < mx)] = 1 if mx % 2 == 0 else 0\n",
    "        \n",
    "    data = np.array(data)\n",
    "\n",
    "    return data, labels\n",
    "\n",
    "def get_data_all(paths):\n",
    "    all_data = []\n",
    "    all_labels = []\n",
    "\n",
    "    for path in paths:\n",
    "        raw_stress = mne.io.read_raw_bdf(path, preload=True, verbose=False)\n",
    "        data, labels = get_data_one(raw_stress)\n",
    "        all_data.append(data)\n",
    "        all_labels.append(labels)\n",
    "\n",
    "    return np.array(all_data), np.array(all_labels)\n",
    "\n",
    "paths = [\"data/sub_\" + str(i) + \".bdf\" for i in range(10)]\n",
    "data, labels = get_data_all(paths)\n"
   ]
  },
  {
   "cell_type": "code",
   "execution_count": 24,
   "metadata": {},
   "outputs": [
    {
     "data": {
      "text/plain": [
       "(10, 8, 15500)"
      ]
     },
     "execution_count": 24,
     "metadata": {},
     "output_type": "execute_result"
    }
   ],
   "source": [
    "np.array(labels).shape\n",
    "np.array(data).shape"
   ]
  },
  {
   "cell_type": "code",
   "execution_count": 65,
   "metadata": {},
   "outputs": [
    {
     "data": {
      "text/plain": [
       "((8, 1, 15001), (15001,))"
      ]
     },
     "execution_count": 65,
     "metadata": {},
     "output_type": "execute_result"
    }
   ],
   "source": [
    "data.shape, labels.shape"
   ]
  },
  {
   "cell_type": "code",
   "execution_count": 12,
   "metadata": {},
   "outputs": [
    {
     "data": {
      "text/html": [
       "\n",
       "\n",
       "<table class=\"table table-hover table-striped table-sm table-responsive small\">\n",
       "    <tr>\n",
       "        <th>Measurement date</th>\n",
       "        <td>September 26, 2022  13:47:34 GMT</td>\n",
       "        \n",
       "    </tr>\n",
       "    <tr>\n",
       "        <th>Experimenter</th>\n",
       "<td>Unknown</td>\n",
       "    </tr>\n",
       "        <th>Participant</th>\n",
       "<td>Unknown</td>\n",
       "    </tr>\n",
       "    <tr>\n",
       "        <th>Digitized points</th>\n",
       "        <td>Not available</td>\n",
       "    </tr>\n",
       "    <tr>\n",
       "        <th>Good channels</th>\n",
       "        <td>11 EEG</td>\n",
       "    </tr>\n",
       "    <tr>\n",
       "        <th>Bad channels</th>\n",
       "        <td>None</td>\n",
       "    </tr>\n",
       "    <tr>\n",
       "        <th>EOG channels</th>\n",
       "        <td>Not available</td>\n",
       "    </tr>\n",
       "    <tr>\n",
       "        <th>ECG channels</th>\n",
       "        <td>Not available</td>\n",
       "    <tr>\n",
       "        <th>Sampling frequency</th>\n",
       "        <td>250.00 Hz</td>\n",
       "    </tr>\n",
       "    <tr>\n",
       "        <th>Highpass</th>\n",
       "        <td>0.00 Hz</td>\n",
       "    </tr>\n",
       "    <tr>\n",
       "        <th>Lowpass</th>\n",
       "        <td>125.00 Hz</td>\n",
       "    </tr>\n",
       "\n",
       "    <tr>\n",
       "        <th>Filenames</th>\n",
       "        <td>sub_0.bdf</td>\n",
       "    </tr>\n",
       "    <tr>\n",
       "        <th>Duration</th>\n",
       "        <td>00:01:00 (HH:MM:SS)</td>\n",
       "    </tr>\n",
       "</table>\n"
      ],
      "text/plain": [
       "<RawEDF | sub_0.bdf, 11 x 15001 (60.0 s), ~1.3 MB, data loaded>"
      ]
     },
     "execution_count": 12,
     "metadata": {},
     "output_type": "execute_result"
    }
   ],
   "source": [
    "annot = mne.Annotations(np.arange(0, 60, 5), 5, np.array([\"opening\", \"closing\"] * 6))\n",
    "raw_stress.set_annotations(annot)"
   ]
  },
  {
   "cell_type": "code",
   "execution_count": 18,
   "metadata": {},
   "outputs": [
    {
     "data": {
      "text/plain": [
       "OrderedDict([('onset', 10.0),\n",
       "             ('duration', 5.0),\n",
       "             ('description', 'opening'),\n",
       "             ('orig_time',\n",
       "              datetime.datetime(2022, 9, 26, 13, 47, 34, tzinfo=datetime.timezone.utc))])"
      ]
     },
     "execution_count": 18,
     "metadata": {},
     "output_type": "execute_result"
    }
   ],
   "source": [
    "raw_stress.annotations[0]"
   ]
  },
  {
   "cell_type": "code",
   "execution_count": 59,
   "metadata": {},
   "outputs": [],
   "source": [
    "a = raw_stress[\"EEG 1\"][1]\n",
    "b = np.ones_like(a)\n",
    "for mx in range(5, 61, 5):\n",
    "    mn = mx - 5\n",
    "    b[(a >= mn) & (a < mx)] = 1 if mx % 2 == 0 else 0"
   ]
  },
  {
   "cell_type": "code",
   "execution_count": 51,
   "metadata": {},
   "outputs": [
    {
     "data": {
      "text/plain": [
       "array([ True,  True,  True, ..., False, False, False])"
      ]
     },
     "execution_count": 51,
     "metadata": {},
     "output_type": "execute_result"
    }
   ],
   "source": [
    "(a >= 0) & (a <= 5)"
   ]
  },
  {
   "cell_type": "code",
   "execution_count": 62,
   "metadata": {},
   "outputs": [
    {
     "data": {
      "text/plain": [
       "array([0, 0, 0, ..., 1, 1, 1])"
      ]
     },
     "execution_count": 62,
     "metadata": {},
     "output_type": "execute_result"
    }
   ],
   "source": []
  },
  {
   "cell_type": "code",
   "execution_count": 54,
   "metadata": {},
   "outputs": [],
   "source": []
  },
  {
   "cell_type": "code",
   "execution_count": 55,
   "metadata": {},
   "outputs": [
    {
     "data": {
      "text/plain": [
       "(15001,)"
      ]
     },
     "execution_count": 55,
     "metadata": {},
     "output_type": "execute_result"
    }
   ],
   "source": [
    "b.shape"
   ]
  },
  {
   "cell_type": "code",
   "execution_count": null,
   "metadata": {},
   "outputs": [],
   "source": []
  }
 ],
 "metadata": {
  "kernelspec": {
   "display_name": "Python 3.9.13 ('TScep')",
   "language": "python",
   "name": "python3"
  },
  "language_info": {
   "codemirror_mode": {
    "name": "ipython",
    "version": 3
   },
   "file_extension": ".py",
   "mimetype": "text/x-python",
   "name": "python",
   "nbconvert_exporter": "python",
   "pygments_lexer": "ipython3",
   "version": "3.9.13"
  },
  "orig_nbformat": 4,
  "vscode": {
   "interpreter": {
    "hash": "ac22f06b9e9381b57f10ce736a7561963e445042b070cb85ecbb19d25388a431"
   }
  }
 },
 "nbformat": 4,
 "nbformat_minor": 2
}
